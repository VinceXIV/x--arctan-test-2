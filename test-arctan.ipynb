{
 "cells": [
  {
   "cell_type": "code",
   "execution_count": 1,
   "id": "e649efd5",
   "metadata": {},
   "outputs": [],
   "source": [
    "import numpy as np\n",
    "import pandas as pd\n",
    "import matplotlib.pyplot as plt\n",
    "import imutils"
   ]
  },
  {
   "cell_type": "code",
   "execution_count": 2,
   "id": "ffb2aa5e",
   "metadata": {},
   "outputs": [],
   "source": [
    "myPic = np.zeros(shape = (100, 100))\n",
    "\n",
    "\n",
    "# for row in range(len(myPic)):\n",
    "#     for col in range(len(myPic[0])):\n",
    "#         if(row % 30 == 0):\n",
    "#             myPic[row, col] = 50\n",
    "#             myPic[row, col] = 50\n",
    "#             myPic[row, col] = 50\n",
    "\n",
    "color = 0\n",
    "for col in range(len(myPic)):\n",
    "    color = color + 4\n",
    "    for row in range(len(myPic[0])):\n",
    "#         if(row % 3 == 0):\n",
    "        myPic[row, col] = color"
   ]
  },
  {
   "cell_type": "code",
   "execution_count": 3,
   "id": "a8efd794",
   "metadata": {},
   "outputs": [
    {
     "data": {
      "text/plain": [
       "<matplotlib.image.AxesImage at 0x1ebf1d79790>"
      ]
     },
     "execution_count": 3,
     "metadata": {},
     "output_type": "execute_result"
    },
    {
     "data": {
      "image/png": "[encoded data removed]",
      "text/plain": [
       "<Figure size 432x288 with 1 Axes>"
      ]
     },
     "metadata": {
      "needs_background": "light"
     },
     "output_type": "display_data"
    }
   ],
   "source": [
    "plt.imshow(myPic, cmap=\"Greys\")"
   ]
  },
  {
   "cell_type": "code",
   "execution_count": 4,
   "id": "8d755353",
   "metadata": {},
   "outputs": [],
   "source": [
    "def getAngle1(ref):    \n",
    "    result = []\n",
    "\n",
    "    a = ref[0,0]\n",
    "    b = ref[0,1]\n",
    "    c = ref[1,0]\n",
    "    d = ref[1,1]\n",
    "    \n",
    "    Hor = abs(a - b) + abs(c - d)\n",
    "    Vert = abs(a - c) +  abs(b - d)    \n",
    "    \n",
    "    return np.arctan(Hor/(Vert))"
   ]
  },
  {
   "cell_type": "code",
   "execution_count": 5,
   "id": "0337cab3",
   "metadata": {},
   "outputs": [],
   "source": [
    "def getAngle2(ref):    \n",
    "    result = []\n",
    "\n",
    "    a = ref[0,0]\n",
    "    b = ref[0,1]\n",
    "    c = ref[1,0]\n",
    "    d = ref[1,1]\n",
    "    \n",
    "    Hor = abs(a - b) + abs(c - d)\n",
    "    Vert = abs(a - c) +  abs(b - d)    \n",
    "    \n",
    "    return np.arctan(Vert/(Hor))"
   ]
  },
  {
   "cell_type": "code",
   "execution_count": 6,
   "id": "224464c6",
   "metadata": {},
   "outputs": [],
   "source": [
    "def getImageAngles1(image):\n",
    "    \n",
    "    result = {}\n",
    "    \n",
    "    for row in range(len(image)-1):\n",
    "        for col in range(len(image[0])-1):\n",
    "            a = image[row, col]\n",
    "            b = image[row, col + 1]\n",
    "            c = image[row + 1, col]\n",
    "            d = image[row + 1, col + 1]\n",
    "\n",
    "            currElement = np.array([a, b, c, d]).reshape(2, 2)\n",
    "\n",
    "            currAngle = getAngle1(currElement)\n",
    "            \n",
    "            if(currAngle >= 0):\n",
    "                result[(row, col)] = currAngle\n",
    "    \n",
    "    return result "
   ]
  },
  {
   "cell_type": "code",
   "execution_count": 7,
   "id": "ae87967f",
   "metadata": {},
   "outputs": [],
   "source": [
    "def getImageAngles2(image):\n",
    "    \n",
    "    result = {}\n",
    "    \n",
    "    for row in range(len(image)-1):\n",
    "        for col in range(len(image[0])-1):\n",
    "            a = image[row, col]\n",
    "            b = image[row, col + 1]\n",
    "            c = image[row + 1, col]\n",
    "            d = image[row + 1, col + 1]\n",
    "\n",
    "            currElement = np.array([a, b, c, d]).reshape(2, 2)\n",
    "\n",
    "            currAngle = getAngle2(currElement)\n",
    "            \n",
    "            if(currAngle >= 0):\n",
    "                result[(row, col)] = currAngle\n",
    "    \n",
    "    return result "
   ]
  },
  {
   "cell_type": "code",
   "execution_count": 8,
   "id": "8b501c08",
   "metadata": {},
   "outputs": [],
   "source": [
    "# def getImageAngles(image):\n",
    "    \n",
    "#     result = image\n",
    "    \n",
    "#     for row in range(len(image)-1):\n",
    "#         for col in range(len(image[0])-1):\n",
    "#             a = image[row, col]\n",
    "#             b = image[row, col + 1]\n",
    "#             c = image[row + 1, col]\n",
    "#             d = image[row + 1, col + 1]\n",
    "\n",
    "#             currElement = np.array([a, b, c, d]).reshape(2, 2)\n",
    "\n",
    "#             currAngle = getAngle(currElement)\n",
    "            \n",
    "#             if(currAngle < 0):\n",
    "#                 result[row, col] = -1\n",
    "                \n",
    "#             result[row, col] = currAngle\n",
    "                \n",
    "    \n",
    "#     return result"
   ]
  },
  {
   "cell_type": "code",
   "execution_count": 9,
   "id": "2812cceb",
   "metadata": {},
   "outputs": [],
   "source": [
    "def getSurrounding(centerItem, ItemList):\n",
    "    result = []\n",
    "    a = centerItem[0]\n",
    "    b = centerItem[1]\n",
    "        \n",
    "    for item in ItemList:\n",
    "        if(item != centerItem):\n",
    "            if(abs(item[0] - 1) <= 1 and abs(item[1] - b) <= 1):\n",
    "                result.append(item)\n",
    "                \n",
    "    return result"
   ]
  },
  {
   "cell_type": "code",
   "execution_count": 10,
   "id": "e26719ed",
   "metadata": {},
   "outputs": [],
   "source": [
    "def stripImageAngles(imageAngles, center):\n",
    "    result = []\n",
    "    \n",
    "    rowStart = center[0]-1\n",
    "    rowEnd = center[0] + 2\n",
    "    \n",
    "    colStart = center[1] -1\n",
    "    colEnd = center[1] + 2\n",
    "    \n",
    "    \n",
    "    for row in range(rowStart, rowEnd):\n",
    "        for col in range(colStart, colEnd):\n",
    "            result.append(imageAngles[(row, col)])\n",
    "\n",
    "    \n",
    "    return result"
   ]
  },
  {
   "cell_type": "code",
   "execution_count": 11,
   "id": "419f1919",
   "metadata": {},
   "outputs": [
    {
     "data": {
      "text/plain": [
       "(40, 40)"
      ]
     },
     "execution_count": 11,
     "metadata": {},
     "output_type": "execute_result"
    }
   ],
   "source": [
    "myOtherPic = myPic[5:45, 5:45]\n",
    "np.shape(myOtherPic)"
   ]
  },
  {
   "cell_type": "code",
   "execution_count": 12,
   "id": "b5172bb2",
   "metadata": {},
   "outputs": [],
   "source": [
    "# getSurrounding((2, 2), list(getImageAngles1(myPic)))"
   ]
  },
  {
   "cell_type": "code",
   "execution_count": 13,
   "id": "10f2b470",
   "metadata": {},
   "outputs": [],
   "source": [
    "rotatedImg = imutils.rotate(myPic, angle=20)"
   ]
  },
  {
   "cell_type": "code",
   "execution_count": 15,
   "id": "fc0d3487",
   "metadata": {},
   "outputs": [
    {
     "data": {
      "text/plain": [
       "<matplotlib.image.AxesImage at 0x1ebf25e0c70>"
      ]
     },
     "execution_count": 15,
     "metadata": {},
     "output_type": "execute_result"
    },
    {
     "data": {
      "image/png": "[encoded data removed]",
      "text/plain": [
       "<Figure size 432x288 with 1 Axes>"
      ]
     },
     "metadata": {
      "needs_background": "light"
     },
     "output_type": "display_data"
    }
   ],
   "source": [
    "rotatedImg = rotatedImg[30:60, 30:60]\n",
    "plt.imshow(rotatedImg, cmap=\"Greys\")"
   ]
  },
  {
   "cell_type": "code",
   "execution_count": 23,
   "id": "239e32f2",
   "metadata": {},
   "outputs": [
    {
     "name": "stderr",
     "output_type": "stream",
     "text": [
      "<ipython-input-4-d82f65a74558>:12: RuntimeWarning: divide by zero encountered in double_scalars\n",
      "  return np.arctan(Hor/(Vert))\n"
     ]
    },
    {
     "data": {
      "text/plain": [
       "Text(0.5, 0, 'Rotated Angle')"
      ]
     },
     "execution_count": 23,
     "metadata": {},
     "output_type": "execute_result"
    },
    {
     "data": {
      "image/png": "[encoded data removed]",
      "text/plain": [
       "<Figure size 648x648 with 1 Axes>"
      ]
     },
     "metadata": {
      "needs_background": "light"
     },
     "output_type": "display_data"
    }
   ],
   "source": [
    "myDF1 = {}\n",
    "myDF1['rotatedAngle'] = []\n",
    "myDF1['computedAngle'] = []\n",
    "\n",
    "myDF2 = {}\n",
    "myDF2['rotatedAngle'] = []\n",
    "myDF2['computedAngle'] = []\n",
    "\n",
    "myDF3 = {}\n",
    "myDF3[\"Expected\"] = []\n",
    "\n",
    "\n",
    "granularity = 1\n",
    "angle = 360\n",
    "for i in range((angle*granularity) + 1):\n",
    "    rotatedImage = imutils.rotate(myPic, angle=i/granularity)\n",
    "    rotatedImage = rotatedImage[30:60, 30:60]\n",
    "    \n",
    "    result1 = getImageAngles1(rotatedImage)\n",
    "    result1 = np.mean([result1[i] for i in result1])\n",
    "    expectedResult1 = (angle - i)/(angle * granularity)\n",
    "    impliedAngle1 = result1 * 90\n",
    "    result12 = result1\n",
    "\n",
    "    myDF1['rotatedAngle'].append(i)\n",
    "    myDF1['computedAngle'].append(result12)\n",
    "\n",
    "    \n",
    "    result2 = getImageAngles2(rotatedImage)\n",
    "    result2 = np.mean([result2[i] for i in result2])\n",
    "    impliedAngle2 = 90 - impliedAngle1\n",
    "    expectedResult2AsImpliedbyResult1 = impliedAngle2/90\n",
    "    expectedResult2 = i/(angle * granularity)\n",
    "    result22 = result2\n",
    "\n",
    "    myDF2['rotatedAngle'].append(i)\n",
    "    myDF2['computedAngle'].append(result22) \n",
    "    \n",
    "    myDF3[\"Expected\"].append(expectedResult2AsImpliedbyResult1 - expectedResult2)\n",
    "    \n",
    "    \n",
    "    \n",
    "#     print(i, \"   \", result)\n",
    "\n",
    "myDF1 = pd.DataFrame(myDF1)\n",
    "myDF2 = pd.DataFrame(myDF2)\n",
    "\n",
    "plt.figure(figsize = (9, 9))\n",
    "# plt.plot(myDF1['rotatedAngle'], myDF1['computedAngle'])\n",
    "plt.plot(myDF2['rotatedAngle'], myDF2['computedAngle'])\n",
    "# plt.plot(myDF2['rotatedAngle'], myDF3['Expected'])\n",
    "plt.title(\"Calculated Orientation against Rotated Angle\")\n",
    "plt.ylabel(\"Calculated Orientation\")\n",
    "plt.xlabel(\"Rotated Angle\")"
   ]
  },
  {
   "cell_type": "code",
   "execution_count": 18,
   "id": "77696809",
   "metadata": {},
   "outputs": [
    {
     "data": {
      "text/plain": [
       "[10, 45]"
      ]
     },
     "execution_count": 18,
     "metadata": {},
     "output_type": "execute_result"
    }
   ],
   "source": [
    "myDict = {1: 10, 2:45}\n",
    "[myDict[i] for i in myDict]"
   ]
  }
 ],
 "metadata": {
  "kernelspec": {
   "display_name": "base",
   "language": "python",
   "name": "python3"
  },
  "language_info": {
   "codemirror_mode": {
    "name": "ipython",
    "version": 3
   },
   "file_extension": ".py",
   "mimetype": "text/x-python",
   "name": "python",
   "nbconvert_exporter": "python",
   "pygments_lexer": "ipython3",
   "version": "3.8.8"
  },
  "vscode": {
   "interpreter": {
    "hash": "9ee0ec614d0abf57fdc8a4c4d1b373279e4d39776338528fabf72ad422f0613a"
   }
  }
 },
 "nbformat": 4,
 "nbformat_minor": 5
}
